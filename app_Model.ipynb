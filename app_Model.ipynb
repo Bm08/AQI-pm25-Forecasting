{
 "cells": [
  {
   "cell_type": "code",
   "execution_count": 3,
   "metadata": {},
   "outputs": [],
   "source": [
    "import pickle\n",
    "import pandas as pd\n",
    "import numpy as np\n",
    "Pkl_Filename = \"Pickle_Model.pkl\"  \n",
    "\n",
    "raw_excel_data = pd.read_csv('delhi_cleaned.csv')\n",
    "df_complex=raw_excel_data.copy()\n",
    "df_complex.date = pd.to_datetime(df_complex.date,format='%d-%m-%Y %H:%M')\n",
    "df_complex.set_index(\"date\", inplace=True)\n",
    "df=df_complex.copy()\n"
   ]
  },
  {
   "cell_type": "code",
   "execution_count": 4,
   "metadata": {},
   "outputs": [
    {
     "name": "stderr",
     "output_type": "stream",
     "text": [
      "C:\\Users\\Lakshmi K\\anaconda3\\lib\\site-packages\\statsmodels\\tsa\\statespace\\sarimax.py:963: UserWarning: Non-stationary starting autoregressive parameters found. Using zeros as starting parameters.\n",
      "  warn('Non-stationary starting autoregressive parameters'\n",
      "C:\\Users\\Lakshmi K\\anaconda3\\lib\\site-packages\\statsmodels\\tsa\\statespace\\sarimax.py:975: UserWarning: Non-invertible starting MA parameters found. Using zeros as starting parameters.\n",
      "  warn('Non-invertible starting MA parameters found.'\n",
      "C:\\Users\\Lakshmi K\\anaconda3\\lib\\site-packages\\statsmodels\\base\\model.py:567: ConvergenceWarning: Maximum Likelihood optimization failed to converge. Check mle_retvals\n",
      "  warn(\"Maximum Likelihood optimization failed to converge. \"\n"
     ]
    }
   ],
   "source": [
    "# create SARIMAX model with previously determined lags\n",
    "from statsmodels.tsa.statespace import sarimax\n",
    "sar_m = sarimax.SARIMAX(df.values,\n",
    "                        trend='n', \n",
    "                        order=(4,1,4), \n",
    "                        seasonal_order=(1, 0, 1, 24),\n",
    "                        simple_differencing=False).fit()\n",
    "with open(Pkl_Filename, 'wb') as file:  \n",
    "    pickle.dump(sar_m, file)"
   ]
  },
  {
   "cell_type": "code",
   "execution_count": null,
   "metadata": {},
   "outputs": [],
   "source": []
  },
  {
   "cell_type": "code",
   "execution_count": null,
   "metadata": {},
   "outputs": [],
   "source": []
  }
 ],
 "metadata": {
  "kernelspec": {
   "display_name": "Python 3",
   "language": "python",
   "name": "python3"
  },
  "language_info": {
   "codemirror_mode": {
    "name": "ipython",
    "version": 3
   },
   "file_extension": ".py",
   "mimetype": "text/x-python",
   "name": "python",
   "nbconvert_exporter": "python",
   "pygments_lexer": "ipython3",
   "version": "3.8.3"
  }
 },
 "nbformat": 4,
 "nbformat_minor": 5
}
