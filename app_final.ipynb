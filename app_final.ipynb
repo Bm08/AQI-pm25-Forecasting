{
 "cells": [
  {
   "cell_type": "code",
   "execution_count": 1,
   "metadata": {},
   "outputs": [],
   "source": [
    "import pickle\n",
    "import pandas as pd\n",
    "pd.set_option('display.max_rows', 3000)\n",
    "import numpy as np\n",
    "Pkl_Filename = \"Pickle_Model.pkl\"  \n",
    "with open(Pkl_Filename, 'rb') as file:  \n",
    "    Pickled_LR_Model = pickle.load(file)\n",
    "forecast = Pickled_LR_Model.forecast(steps=24)"
   ]
  },
  {
   "cell_type": "code",
   "execution_count": 2,
   "metadata": {},
   "outputs": [],
   "source": [
    "%matplotlib widget\n",
    "import ipywidgets as widgets\n",
    "from ipywidgets import HTML, AppLayout, Layout, Dropdown\n",
    "import matplotlib.pyplot as plt\n",
    "import numpy as np\n",
    "output = widgets.Output()\n",
    " \n",
    "# create some x data\n",
    "x = np.linspace(0, 2 * np.pi, 100)\n",
    " \n",
    "# default line color\n",
    "initial_color = '#FF00DD'\n",
    " \n",
    "with output:\n",
    "    fig, ax = plt.subplots(constrained_layout=True, figsize=(3, 3))\n",
    "     \n",
    "# move the toolbar to the bottom\n",
    "fig.canvas.toolbar_position = 'bottom'\n",
    "ax.grid(True)    \n",
    "line, = ax.plot(forecast, initial_color)\n",
    "lbl_predicted=widgets.Label(value='',color ='blue',layout=widgets.Layout(align_self='center'))\n"
   ]
  },
  {
   "cell_type": "code",
   "execution_count": 3,
   "metadata": {},
   "outputs": [
    {
     "data": {
      "application/vnd.jupyter.widget-view+json": {
       "model_id": "d28b0e0574a34daf999a77efdce0f4c9",
       "version_major": 2,
       "version_minor": 0
      },
      "text/plain": [
       "AppLayout(children=(HTML(value='<style>h1 { text-align: center;color:blue} </style> <h1>Air Quality Forecastin…"
      ]
     },
     "metadata": {},
     "output_type": "display_data"
    }
   ],
   "source": [
    "time=widgets.Dropdown(\n",
    "    options=[('00:00',0),('01:00',1),( '02:00',2),( '03:00',3),( '04:00',4),( '05:00',5),( '06:00',6),( '07:00',7),( '08:00',8)\n",
    "             ,('09:00',9),( '10:00',10),( '11:00',11),( '12:00',12),( '13:00',13),( '14:00',14),( '15:00',15),( '16:00',16)\n",
    "             ,( '17:00',17),('18:00',18),( '19:00',19),( '20:00',20),( '21:00',21),( '22:00',22),( '23:00',23) ],value=0, description='Select Time',    disabled=False)\n",
    "predict=widgets.Button(description='Predict',disabled=False, tooltip='Predict',layout=widgets.Layout(align_self='center'))\n",
    "def on_button_clicked(b):\n",
    "    with output:\n",
    "        lbl_predicted.value=r'\\(\\color{red} {' + str(forecast.item(time.value))  + '}\\)'\n",
    "\n",
    "txtArea=widgets.Textarea('\\n'.join([str(w) for w in forecast]),layout=widgets.Layout(height='200px'))\n",
    "\n",
    "predict.on_click(on_button_clicked)\n",
    "\n",
    "header = HTML(\"<style>h1 { text-align: center;color:blue} </style> <h1>Air Quality Forecasting</h1>\", layout=Layout(height='20px'))\n",
    "left = HTML(\"<style>h3 { text-align: center;} </style> <h3>Hourly Prediction</h3>\")\n",
    "right = HTML(\"<style>h3 { text-align: center;} </style> <h3>24 hours Prediction</h3>\")\n",
    "lcontrols = widgets.VBox([left,time, predict,lbl_predicted])\n",
    "\n",
    "lcontrols.layout.width = '400px'\n",
    "lcontrols.layout.height = '200px'\n",
    "lcontrols.layout.border = 'solid 2px green'\n",
    "\n",
    "\n",
    "rcontrols = widgets.VBox([right,txtArea])\n",
    "rcontrols.layout.border = 'solid 2px green'\n",
    "AppLayout(header=header,center=widgets.HBox([lcontrols,rcontrols,output]))"
   ]
  },
  {
   "cell_type": "code",
   "execution_count": null,
   "metadata": {},
   "outputs": [],
   "source": []
  },
  {
   "cell_type": "code",
   "execution_count": null,
   "metadata": {},
   "outputs": [],
   "source": []
  }
 ],
 "metadata": {
  "kernelspec": {
   "display_name": "Python 3",
   "language": "python",
   "name": "python3"
  },
  "language_info": {
   "codemirror_mode": {
    "name": "ipython",
    "version": 3
   },
   "file_extension": ".py",
   "mimetype": "text/x-python",
   "name": "python",
   "nbconvert_exporter": "python",
   "pygments_lexer": "ipython3",
   "version": "3.8.3"
  }
 },
 "nbformat": 4,
 "nbformat_minor": 4
}
